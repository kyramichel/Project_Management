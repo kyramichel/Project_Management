{
 "cells": [
  {
   "cell_type": "markdown",
   "metadata": {},
   "source": [
    "# Economic Stocks Plot\n",
    "\n",
    "I retrieved stock prices from Yahoo Finance and generated different plots in Python and R ggplot gganimate"
   ]
  },
  {
   "cell_type": "code",
   "execution_count": 1,
   "metadata": {},
   "outputs": [],
   "source": [
    "import pandas as pd\n",
    "import numpy as np\n",
    "import pandas \n",
    "import matplotlib.pyplot as plt\n",
    "import warnings\n",
    "warnings.filterwarnings('ignore')"
   ]
  },
  {
   "cell_type": "code",
   "execution_count": 2,
   "metadata": {
    "scrolled": true
   },
   "outputs": [
    {
     "name": "stdout",
     "output_type": "stream",
     "text": [
      "Requirement already satisfied: pandas-datareader in c:\\users\\k\\anaconda3\\lib\\site-packages (0.9.0)Note: you may need to restart the kernel to use updated packages.\n",
      "Requirement already satisfied: lxml in c:\\users\\k\\anaconda3\\lib\\site-packages (from pandas-datareader) (4.5.2)\n",
      "Requirement already satisfied: requests>=2.19.0 in c:\\users\\k\\anaconda3\\lib\\site-packages (from pandas-datareader) (2.24.0)\n",
      "Requirement already satisfied: pandas>=0.23 in c:\\users\\k\\anaconda3\\lib\\site-packages (from pandas-datareader) (1.0.5)\n",
      "Requirement already satisfied: urllib3!=1.25.0,!=1.25.1,<1.26,>=1.21.1 in c:\\users\\k\\anaconda3\\lib\\site-packages (from requests>=2.19.0->pandas-datareader) (1.25.9)\n",
      "Requirement already satisfied: certifi>=2017.4.17 in c:\\users\\k\\anaconda3\\lib\\site-packages (from requests>=2.19.0->pandas-datareader) (2020.6.20)\n",
      "Requirement already satisfied: idna<3,>=2.5 in c:\\users\\k\\anaconda3\\lib\\site-packages (from requests>=2.19.0->pandas-datareader) (2.10)\n",
      "Requirement already satisfied: chardet<4,>=3.0.2 in c:\\users\\k\\anaconda3\\lib\\site-packages (from requests>=2.19.0->pandas-datareader) (3.0.4)\n",
      "Requirement already satisfied: python-dateutil>=2.6.1 in c:\\users\\k\\anaconda3\\lib\\site-packages (from pandas>=0.23->pandas-datareader) (2.8.1)\n",
      "Requirement already satisfied: pytz>=2017.2 in c:\\users\\k\\anaconda3\\lib\\site-packages (from pandas>=0.23->pandas-datareader) (2020.1)\n",
      "Requirement already satisfied: numpy>=1.13.3 in c:\\users\\k\\anaconda3\\lib\\site-packages (from pandas>=0.23->pandas-datareader) (1.18.5)\n",
      "Requirement already satisfied: six>=1.5 in c:\\users\\k\\anaconda3\\lib\\site-packages (from python-dateutil>=2.6.1->pandas>=0.23->pandas-datareader) (1.15.0)\n",
      "\n"
     ]
    }
   ],
   "source": [
    "pip install pandas-datareader"
   ]
  },
  {
   "cell_type": "code",
   "execution_count": 6,
   "metadata": {},
   "outputs": [],
   "source": [
    "from pandas_datareader import data, wb"
   ]
  },
  {
   "cell_type": "code",
   "execution_count": 4,
   "metadata": {},
   "outputs": [],
   "source": [
    "import datetime"
   ]
  },
  {
   "cell_type": "code",
   "execution_count": 7,
   "metadata": {},
   "outputs": [],
   "source": [
    "start = datetime.datetime(2021, 1, 1)"
   ]
  },
  {
   "cell_type": "code",
   "execution_count": 8,
   "metadata": {},
   "outputs": [],
   "source": [
    "end = datetime.datetime(2021, 3, 22)"
   ]
  },
  {
   "cell_type": "code",
   "execution_count": 9,
   "metadata": {},
   "outputs": [],
   "source": [
    "import pandas_datareader.data as web\n"
   ]
  },
  {
   "cell_type": "code",
   "execution_count": 11,
   "metadata": {},
   "outputs": [
    {
     "data": {
      "text/html": [
       "<div>\n",
       "<style scoped>\n",
       "    .dataframe tbody tr th:only-of-type {\n",
       "        vertical-align: middle;\n",
       "    }\n",
       "\n",
       "    .dataframe tbody tr th {\n",
       "        vertical-align: top;\n",
       "    }\n",
       "\n",
       "    .dataframe thead th {\n",
       "        text-align: right;\n",
       "    }\n",
       "</style>\n",
       "<table border=\"1\" class=\"dataframe\">\n",
       "  <thead>\n",
       "    <tr style=\"text-align: right;\">\n",
       "      <th></th>\n",
       "      <th>High</th>\n",
       "      <th>Low</th>\n",
       "      <th>Open</th>\n",
       "      <th>Close</th>\n",
       "      <th>Volume</th>\n",
       "      <th>Adj Close</th>\n",
       "    </tr>\n",
       "    <tr>\n",
       "      <th>Date</th>\n",
       "      <th></th>\n",
       "      <th></th>\n",
       "      <th></th>\n",
       "      <th></th>\n",
       "      <th></th>\n",
       "      <th></th>\n",
       "    </tr>\n",
       "  </thead>\n",
       "  <tbody>\n",
       "    <tr>\n",
       "      <th>2021-01-04</th>\n",
       "      <td>30674.279297</td>\n",
       "      <td>29881.820312</td>\n",
       "      <td>30627.470703</td>\n",
       "      <td>30223.890625</td>\n",
       "      <td>4750800</td>\n",
       "      <td>30223.890625</td>\n",
       "    </tr>\n",
       "    <tr>\n",
       "      <th>2021-01-05</th>\n",
       "      <td>30504.890625</td>\n",
       "      <td>30141.779297</td>\n",
       "      <td>30204.250000</td>\n",
       "      <td>30391.599609</td>\n",
       "      <td>3509100</td>\n",
       "      <td>30391.599609</td>\n",
       "    </tr>\n",
       "    <tr>\n",
       "      <th>2021-01-06</th>\n",
       "      <td>31022.650391</td>\n",
       "      <td>30313.070312</td>\n",
       "      <td>30362.779297</td>\n",
       "      <td>30829.400391</td>\n",
       "      <td>5004300</td>\n",
       "      <td>30829.400391</td>\n",
       "    </tr>\n",
       "    <tr>\n",
       "      <th>2021-01-07</th>\n",
       "      <td>31193.400391</td>\n",
       "      <td>30897.859375</td>\n",
       "      <td>30901.179688</td>\n",
       "      <td>31041.130859</td>\n",
       "      <td>4278100</td>\n",
       "      <td>31041.130859</td>\n",
       "    </tr>\n",
       "    <tr>\n",
       "      <th>2021-01-08</th>\n",
       "      <td>31140.669922</td>\n",
       "      <td>30793.269531</td>\n",
       "      <td>31069.580078</td>\n",
       "      <td>31097.970703</td>\n",
       "      <td>3811500</td>\n",
       "      <td>31097.970703</td>\n",
       "    </tr>\n",
       "  </tbody>\n",
       "</table>\n",
       "</div>"
      ],
      "text/plain": [
       "                    High           Low          Open         Close   Volume  \\\n",
       "Date                                                                          \n",
       "2021-01-04  30674.279297  29881.820312  30627.470703  30223.890625  4750800   \n",
       "2021-01-05  30504.890625  30141.779297  30204.250000  30391.599609  3509100   \n",
       "2021-01-06  31022.650391  30313.070312  30362.779297  30829.400391  5004300   \n",
       "2021-01-07  31193.400391  30897.859375  30901.179688  31041.130859  4278100   \n",
       "2021-01-08  31140.669922  30793.269531  31069.580078  31097.970703  3811500   \n",
       "\n",
       "               Adj Close  \n",
       "Date                      \n",
       "2021-01-04  30223.890625  \n",
       "2021-01-05  30391.599609  \n",
       "2021-01-06  30829.400391  \n",
       "2021-01-07  31041.130859  \n",
       "2021-01-08  31097.970703  "
      ]
     },
     "execution_count": 11,
     "metadata": {},
     "output_type": "execute_result"
    }
   ],
   "source": [
    "dow = web.DataReader(\"^DJI\", 'yahoo', start, end)\n",
    "dow.head()\n"
   ]
  },
  {
   "cell_type": "code",
   "execution_count": 12,
   "metadata": {},
   "outputs": [
    {
     "data": {
      "text/html": [
       "<div>\n",
       "<style scoped>\n",
       "    .dataframe tbody tr th:only-of-type {\n",
       "        vertical-align: middle;\n",
       "    }\n",
       "\n",
       "    .dataframe tbody tr th {\n",
       "        vertical-align: top;\n",
       "    }\n",
       "\n",
       "    .dataframe thead th {\n",
       "        text-align: right;\n",
       "    }\n",
       "</style>\n",
       "<table border=\"1\" class=\"dataframe\">\n",
       "  <thead>\n",
       "    <tr style=\"text-align: right;\">\n",
       "      <th></th>\n",
       "      <th>High</th>\n",
       "      <th>Low</th>\n",
       "      <th>Open</th>\n",
       "      <th>Close</th>\n",
       "      <th>Volume</th>\n",
       "      <th>Adj Close</th>\n",
       "    </tr>\n",
       "    <tr>\n",
       "      <th>Date</th>\n",
       "      <th></th>\n",
       "      <th></th>\n",
       "      <th></th>\n",
       "      <th></th>\n",
       "      <th></th>\n",
       "      <th></th>\n",
       "    </tr>\n",
       "  </thead>\n",
       "  <tbody>\n",
       "    <tr>\n",
       "      <th>2021-01-04</th>\n",
       "      <td>12958.719727</td>\n",
       "      <td>12543.240234</td>\n",
       "      <td>12958.519531</td>\n",
       "      <td>12698.450195</td>\n",
       "      <td>6546740000</td>\n",
       "      <td>12698.450195</td>\n",
       "    </tr>\n",
       "    <tr>\n",
       "      <th>2021-01-05</th>\n",
       "      <td>12828.269531</td>\n",
       "      <td>12665.650391</td>\n",
       "      <td>12665.650391</td>\n",
       "      <td>12818.959961</td>\n",
       "      <td>6904420000</td>\n",
       "      <td>12818.959961</td>\n",
       "    </tr>\n",
       "    <tr>\n",
       "      <th>2021-01-06</th>\n",
       "      <td>12909.629883</td>\n",
       "      <td>12649.990234</td>\n",
       "      <td>12666.150391</td>\n",
       "      <td>12740.790039</td>\n",
       "      <td>7648340000</td>\n",
       "      <td>12740.790039</td>\n",
       "    </tr>\n",
       "    <tr>\n",
       "      <th>2021-01-07</th>\n",
       "      <td>13090.910156</td>\n",
       "      <td>12867.339844</td>\n",
       "      <td>12867.339844</td>\n",
       "      <td>13067.480469</td>\n",
       "      <td>6777010000</td>\n",
       "      <td>13067.480469</td>\n",
       "    </tr>\n",
       "    <tr>\n",
       "      <th>2021-01-08</th>\n",
       "      <td>13208.089844</td>\n",
       "      <td>13036.549805</td>\n",
       "      <td>13160.219727</td>\n",
       "      <td>13201.980469</td>\n",
       "      <td>7223660000</td>\n",
       "      <td>13201.980469</td>\n",
       "    </tr>\n",
       "  </tbody>\n",
       "</table>\n",
       "</div>"
      ],
      "text/plain": [
       "                    High           Low          Open         Close  \\\n",
       "Date                                                                 \n",
       "2021-01-04  12958.719727  12543.240234  12958.519531  12698.450195   \n",
       "2021-01-05  12828.269531  12665.650391  12665.650391  12818.959961   \n",
       "2021-01-06  12909.629883  12649.990234  12666.150391  12740.790039   \n",
       "2021-01-07  13090.910156  12867.339844  12867.339844  13067.480469   \n",
       "2021-01-08  13208.089844  13036.549805  13160.219727  13201.980469   \n",
       "\n",
       "                Volume     Adj Close  \n",
       "Date                                  \n",
       "2021-01-04  6546740000  12698.450195  \n",
       "2021-01-05  6904420000  12818.959961  \n",
       "2021-01-06  7648340000  12740.790039  \n",
       "2021-01-07  6777010000  13067.480469  \n",
       "2021-01-08  7223660000  13201.980469  "
      ]
     },
     "execution_count": 12,
     "metadata": {},
     "output_type": "execute_result"
    }
   ],
   "source": [
    "nasdaq = web.DataReader(\"^IXIC\", 'yahoo', start, end)\n",
    "nasdaq.head()"
   ]
  },
  {
   "cell_type": "code",
   "execution_count": 13,
   "metadata": {},
   "outputs": [
    {
     "data": {
      "text/html": [
       "<div>\n",
       "<style scoped>\n",
       "    .dataframe tbody tr th:only-of-type {\n",
       "        vertical-align: middle;\n",
       "    }\n",
       "\n",
       "    .dataframe tbody tr th {\n",
       "        vertical-align: top;\n",
       "    }\n",
       "\n",
       "    .dataframe thead th {\n",
       "        text-align: right;\n",
       "    }\n",
       "</style>\n",
       "<table border=\"1\" class=\"dataframe\">\n",
       "  <thead>\n",
       "    <tr style=\"text-align: right;\">\n",
       "      <th></th>\n",
       "      <th>High</th>\n",
       "      <th>Low</th>\n",
       "      <th>Open</th>\n",
       "      <th>Close</th>\n",
       "      <th>Volume</th>\n",
       "      <th>Adj Close</th>\n",
       "    </tr>\n",
       "    <tr>\n",
       "      <th>Date</th>\n",
       "      <th></th>\n",
       "      <th></th>\n",
       "      <th></th>\n",
       "      <th></th>\n",
       "      <th></th>\n",
       "      <th></th>\n",
       "    </tr>\n",
       "  </thead>\n",
       "  <tbody>\n",
       "    <tr>\n",
       "      <th>2021-01-04</th>\n",
       "      <td>14605.750000</td>\n",
       "      <td>14258.250000</td>\n",
       "      <td>14601.450195</td>\n",
       "      <td>14376.700195</td>\n",
       "      <td>5006680000</td>\n",
       "      <td>14376.700195</td>\n",
       "    </tr>\n",
       "    <tr>\n",
       "      <th>2021-01-05</th>\n",
       "      <td>14579.280273</td>\n",
       "      <td>14378.700195</td>\n",
       "      <td>14378.700195</td>\n",
       "      <td>14536.530273</td>\n",
       "      <td>4582620000</td>\n",
       "      <td>14536.530273</td>\n",
       "    </tr>\n",
       "    <tr>\n",
       "      <th>2021-01-06</th>\n",
       "      <td>14898.490234</td>\n",
       "      <td>14590.410156</td>\n",
       "      <td>14594.480469</td>\n",
       "      <td>14788.839844</td>\n",
       "      <td>6049970000</td>\n",
       "      <td>14788.839844</td>\n",
       "    </tr>\n",
       "    <tr>\n",
       "      <th>2021-01-07</th>\n",
       "      <td>14948.299805</td>\n",
       "      <td>14849.349609</td>\n",
       "      <td>14866.919922</td>\n",
       "      <td>14928.750000</td>\n",
       "      <td>5080870000</td>\n",
       "      <td>14928.750000</td>\n",
       "    </tr>\n",
       "    <tr>\n",
       "      <th>2021-01-08</th>\n",
       "      <td>15006.160156</td>\n",
       "      <td>14818.799805</td>\n",
       "      <td>14990.519531</td>\n",
       "      <td>14966.830078</td>\n",
       "      <td>4764180000</td>\n",
       "      <td>14966.830078</td>\n",
       "    </tr>\n",
       "  </tbody>\n",
       "</table>\n",
       "</div>"
      ],
      "text/plain": [
       "                    High           Low          Open         Close  \\\n",
       "Date                                                                 \n",
       "2021-01-04  14605.750000  14258.250000  14601.450195  14376.700195   \n",
       "2021-01-05  14579.280273  14378.700195  14378.700195  14536.530273   \n",
       "2021-01-06  14898.490234  14590.410156  14594.480469  14788.839844   \n",
       "2021-01-07  14948.299805  14849.349609  14866.919922  14928.750000   \n",
       "2021-01-08  15006.160156  14818.799805  14990.519531  14966.830078   \n",
       "\n",
       "                Volume     Adj Close  \n",
       "Date                                  \n",
       "2021-01-04  5006680000  14376.700195  \n",
       "2021-01-05  4582620000  14536.530273  \n",
       "2021-01-06  6049970000  14788.839844  \n",
       "2021-01-07  5080870000  14928.750000  \n",
       "2021-01-08  4764180000  14966.830078  "
      ]
     },
     "execution_count": 13,
     "metadata": {},
     "output_type": "execute_result"
    }
   ],
   "source": [
    "nyse = web.DataReader(\"^NYA\", 'yahoo', start, end)\n",
    "nyse.head()"
   ]
  },
  {
   "cell_type": "code",
   "execution_count": 14,
   "metadata": {},
   "outputs": [
    {
     "data": {
      "image/png": "[encoded data removed]",
      "text/plain": [
       "<Figure size 576x360 with 1 Axes>"
      ]
     },
     "metadata": {
      "needs_background": "light"
     },
     "output_type": "display_data"
    }
   ],
   "source": [
    "dow['Close'].plot(figsize=(8,5), label='Dow Jones Industrial Average')\n",
    "nasdaq['Close'].plot(figsize=(8,5), label=\"NASDAQ Composite\")\n",
    "nyse['Close'].plot(figsize=(8,5), label = \"NYSE Composite\")\n",
    "\n",
    "plt.xlabel('Date')\n",
    "plt.ylabel('Close')\n",
    "plt.title('Economic Stocks 1st Quarter 2021')\n",
    "plt.legend(loc=\"\")\n",
    "plt.show()"
   ]
  },
  {
   "cell_type": "markdown",
   "metadata": {},
   "source": [
    "### Same stocks in March 2020"
   ]
  },
  {
   "cell_type": "code",
   "execution_count": 15,
   "metadata": {},
   "outputs": [],
   "source": [
    "from PIL import Image, ImageSequence"
   ]
  },
  {
   "cell_type": "code",
   "execution_count": null,
   "metadata": {},
   "outputs": [],
   "source": [
    "im = Image.open(\"EconomicStocks.gif\")  \n",
    "im.show()"
   ]
  }
 ],
 "metadata": {
  "kernelspec": {
   "display_name": "Python 3",
   "language": "python",
   "name": "python3"
  },
  "language_info": {
   "codemirror_mode": {
    "name": "ipython",
    "version": 3
   },
   "file_extension": ".py",
   "mimetype": "text/x-python",
   "name": "python",
   "nbconvert_exporter": "python",
   "pygments_lexer": "ipython3",
   "version": "3.8.3"
  }
 },
 "nbformat": 4,
 "nbformat_minor": 2
}
